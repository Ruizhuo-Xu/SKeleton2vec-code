{
 "cells": [
  {
   "cell_type": "code",
   "execution_count": 14,
   "metadata": {},
   "outputs": [],
   "source": [
    "import pickle\n",
    "from datasets.pipelines import PreNormalize3D, RandomRot, GenSkeFeat, UniformSampleDecode,\\\n",
    "    FormatGCNInput, Collect, ToTensor\n",
    "# from datasets.pipelines.sampling import UniformSampleDecode\n",
    "# from utils.visualize import Vis3DPose"
   ]
  },
  {
   "cell_type": "code",
   "execution_count": 15,
   "metadata": {},
   "outputs": [],
   "source": [
    "# annotations = './data/nturgbd/ntu60_3danno.pkl'\n",
    "annotations = './data/pku/pkuv1_3danno.pkl'\n",
    "with open(annotations, \"rb\") as f:\n",
    "    data = pickle.load(f)"
   ]
  },
  {
   "cell_type": "code",
   "execution_count": 12,
   "metadata": {},
   "outputs": [
    {
     "data": {
      "text/plain": [
       "dict_keys(['xsub_train', 'xsub_val', 'xset_train', 'xset_val', 'xview_train', 'xview_val'])"
      ]
     },
     "execution_count": 12,
     "metadata": {},
     "output_type": "execute_result"
    }
   ],
   "source": [
    "data['split'].keys()"
   ]
  },
  {
   "cell_type": "code",
   "execution_count": 13,
   "metadata": {},
   "outputs": [
    {
     "data": {
      "text/plain": [
       "113156"
      ]
     },
     "execution_count": 13,
     "metadata": {},
     "output_type": "execute_result"
    }
   ],
   "source": [
    "len(data['split']['xsub_train']) + len(data['split']['xsub_val']) + len(data['split']['xview_train']) + len(data['split']['xview_val'])"
   ]
  },
  {
   "cell_type": "code",
   "execution_count": 16,
   "metadata": {},
   "outputs": [
    {
     "data": {
      "text/plain": [
       "dict_keys(['label', 'frame_dir', 'keypoint', 'total_frames'])"
      ]
     },
     "execution_count": 16,
     "metadata": {},
     "output_type": "execute_result"
    }
   ],
   "source": [
    "data['annotations'][0].keys()"
   ]
  },
  {
   "cell_type": "code",
   "execution_count": 9,
   "metadata": {},
   "outputs": [
    {
     "data": {
      "text/plain": [
       "56578"
      ]
     },
     "execution_count": 9,
     "metadata": {},
     "output_type": "execute_result"
    }
   ],
   "source": [
    "len(data['annotations'])"
   ]
  },
  {
   "cell_type": "code",
   "execution_count": 16,
   "metadata": {},
   "outputs": [
    {
     "data": {
      "text/plain": [
       "(300, 1, 112.38943557370962)"
      ]
     },
     "execution_count": 16,
     "metadata": {},
     "output_type": "execute_result"
    }
   ],
   "source": [
    "frames = []\n",
    "for x in data['annotations']:\n",
    "    frames.append(x['total_frames'])\n",
    "max(frames), min(frames), sum(frames) / len(frames)"
   ]
  },
  {
   "cell_type": "code",
   "execution_count": 18,
   "metadata": {},
   "outputs": [
    {
     "data": {
      "text/plain": [
       "(13106, 43472)"
      ]
     },
     "execution_count": 18,
     "metadata": {},
     "output_type": "execute_result"
    }
   ],
   "source": [
    "cnt = 0\n",
    "for frame in frames:\n",
    "    if frame > 100:\n",
    "        cnt += 1\n",
    "cnt, len(frames) - cnt"
   ]
  },
  {
   "cell_type": "code",
   "execution_count": 6,
   "metadata": {},
   "outputs": [
    {
     "data": {
      "text/plain": [
       "{'frame_dir': 'S001C001P001R001A011',\n",
       " 'label': 10,\n",
       " 'keypoint': array([[[[2.0581e-01, 1.9202e-01, 3.8105e+00],\n",
       "          [2.1338e-01, 4.4238e-01, 3.7266e+00],\n",
       "          [2.2131e-01, 6.8750e-01, 3.6328e+00],\n",
       "          ...,\n",
       "          [6.8115e-02, 3.9038e-01, 3.4863e+00],\n",
       "          [5.2338e-02, 3.3496e-01, 3.5117e+00],\n",
       "          [1.1133e-01, 3.4131e-01, 3.5625e+00]],\n",
       " \n",
       "         [[2.0581e-01, 1.9214e-01, 3.8105e+00],\n",
       "          [2.1387e-01, 4.4263e-01, 3.7266e+00],\n",
       "          [2.2229e-01, 6.8848e-01, 3.6328e+00],\n",
       "          ...,\n",
       "          [8.9172e-02, 3.9673e-01, 3.5195e+00],\n",
       "          [5.1392e-02, 3.1885e-01, 3.5332e+00],\n",
       "          [1.0736e-01, 3.3423e-01, 3.5723e+00]],\n",
       " \n",
       "         [[2.0605e-01, 1.9238e-01, 3.8105e+00],\n",
       "          [2.1399e-01, 4.4287e-01, 3.7266e+00],\n",
       "          [2.2229e-01, 6.8848e-01, 3.6328e+00],\n",
       "          ...,\n",
       "          [1.0004e-01, 3.8989e-01, 3.5254e+00],\n",
       "          [5.2521e-02, 3.2690e-01, 3.5293e+00],\n",
       "          [1.0706e-01, 3.3472e-01, 3.5723e+00]],\n",
       " \n",
       "         ...,\n",
       " \n",
       "         [[2.1887e-01, 2.1326e-01, 3.8340e+00],\n",
       "          [2.2949e-01, 4.5166e-01, 3.7598e+00],\n",
       "          [2.4023e-01, 6.8604e-01, 3.6738e+00],\n",
       "          ...,\n",
       "          [2.1338e-01, 4.4946e-01, 3.4609e+00],\n",
       "          [9.4891e-04, 5.0537e-01, 3.5117e+00],\n",
       "          [8.7219e-02, 4.8413e-01, 3.4102e+00]],\n",
       " \n",
       "         [[2.1936e-01, 2.1265e-01, 3.8340e+00],\n",
       "          [2.3047e-01, 4.5142e-01, 3.7598e+00],\n",
       "          [2.4182e-01, 6.8604e-01, 3.6719e+00],\n",
       "          ...,\n",
       "          [1.4490e-01, 4.5874e-01, 3.5000e+00],\n",
       "          [2.9968e-02, 4.9927e-01, 3.4824e+00],\n",
       "          [1.0205e-01, 4.7852e-01, 3.4434e+00]],\n",
       " \n",
       "         [[2.1948e-01, 2.1252e-01, 3.8340e+00],\n",
       "          [2.3071e-01, 4.5117e-01, 3.7578e+00],\n",
       "          [2.4194e-01, 6.8555e-01, 3.6719e+00],\n",
       "          ...,\n",
       "          [1.4038e-01, 4.9243e-01, 3.4629e+00],\n",
       "          [2.0508e-02, 4.9072e-01, 3.4902e+00],\n",
       "          [9.5154e-02, 4.7363e-01, 3.4512e+00]]]], dtype=float16),\n",
       " 'total_frames': 82}"
      ]
     },
     "execution_count": 6,
     "metadata": {},
     "output_type": "execute_result"
    }
   ],
   "source": [
    "anno = data['annotations'][10]\n",
    "anno"
   ]
  },
  {
   "cell_type": "code",
   "execution_count": 3,
   "metadata": {},
   "outputs": [
    {
     "data": {
      "text/plain": [
       "dict_keys(['frame_dir', 'label', 'keypoint', 'total_frames', 'body_center'])"
      ]
     },
     "execution_count": 3,
     "metadata": {},
     "output_type": "execute_result"
    }
   ],
   "source": [
    "anno = data['annotations'][0]\n",
    "anno = PreNormalize3D()(anno)\n",
    "anno.keys()"
   ]
  },
  {
   "cell_type": "code",
   "execution_count": 4,
   "metadata": {},
   "outputs": [
    {
     "data": {
      "text/plain": [
       "dict_keys(['frame_dir', 'label', 'keypoint', 'total_frames', 'body_center'])"
      ]
     },
     "execution_count": 4,
     "metadata": {},
     "output_type": "execute_result"
    }
   ],
   "source": [
    "anno = RandomRot(theta=0.2)(anno)\n",
    "anno.keys()"
   ]
  },
  {
   "cell_type": "code",
   "execution_count": 5,
   "metadata": {},
   "outputs": [
    {
     "data": {
      "text/plain": [
       "dict_keys(['frame_dir', 'label', 'total_frames', 'body_center', 'keypoint'])"
      ]
     },
     "execution_count": 5,
     "metadata": {},
     "output_type": "execute_result"
    }
   ],
   "source": [
    "anno = GenSkeFeat()(anno)\n",
    "anno.keys()"
   ]
  },
  {
   "cell_type": "code",
   "execution_count": 6,
   "metadata": {},
   "outputs": [
    {
     "data": {
      "text/plain": [
       "(1, 103, 25, 3)"
      ]
     },
     "execution_count": 6,
     "metadata": {},
     "output_type": "execute_result"
    }
   ],
   "source": [
    "anno['keypoint'].shape"
   ]
  },
  {
   "cell_type": "code",
   "execution_count": 7,
   "metadata": {},
   "outputs": [
    {
     "data": {
      "text/plain": [
       "(dict_keys(['frame_dir', 'label', 'total_frames', 'body_center', 'clip_len', 'frame_interval', 'num_clips', 'keypoint']),\n",
       " (1, 100, 25, 3))"
      ]
     },
     "execution_count": 7,
     "metadata": {},
     "output_type": "execute_result"
    }
   ],
   "source": [
    "anno = UniformSampleDecode(clip_len=100)(anno)\n",
    "anno.keys(), anno['keypoint'].shape"
   ]
  },
  {
   "cell_type": "code",
   "execution_count": 8,
   "metadata": {},
   "outputs": [
    {
     "data": {
      "text/plain": [
       "(dict_keys(['frame_dir', 'label', 'total_frames', 'body_center', 'clip_len', 'frame_interval', 'num_clips', 'keypoint']),\n",
       " (1, 2, 100, 25, 3))"
      ]
     },
     "execution_count": 8,
     "metadata": {},
     "output_type": "execute_result"
    }
   ],
   "source": [
    "anno = FormatGCNInput()(anno)\n",
    "anno.keys(), anno['keypoint'].shape"
   ]
  },
  {
   "cell_type": "code",
   "execution_count": 9,
   "metadata": {},
   "outputs": [
    {
     "data": {
      "text/plain": [
       "dict_keys(['keypoint', 'label'])"
      ]
     },
     "execution_count": 9,
     "metadata": {},
     "output_type": "execute_result"
    }
   ],
   "source": [
    "anno = Collect(keys=['keypoint', 'label'], meta_keys=[])(anno)\n",
    "anno.keys()"
   ]
  },
  {
   "cell_type": "code",
   "execution_count": 17,
   "metadata": {},
   "outputs": [],
   "source": [
    "anno = ToTensor(keys=['keypoint', 'label'])(anno)"
   ]
  },
  {
   "cell_type": "code",
   "execution_count": 18,
   "metadata": {},
   "outputs": [
    {
     "data": {
      "text/plain": [
       "tensor([0])"
      ]
     },
     "execution_count": 18,
     "metadata": {},
     "output_type": "execute_result"
    }
   ],
   "source": [
    "anno['label']"
   ]
  },
  {
   "cell_type": "code",
   "execution_count": 1,
   "metadata": {},
   "outputs": [],
   "source": [
    "import torch"
   ]
  },
  {
   "cell_type": "code",
   "execution_count": 3,
   "metadata": {},
   "outputs": [],
   "source": [
    "x = torch.randn(2, 750, 256)\n",
    "N, L, D = x.shape"
   ]
  },
  {
   "cell_type": "code",
   "execution_count": 4,
   "metadata": {},
   "outputs": [
    {
     "data": {
      "text/plain": [
       "4"
      ]
     },
     "execution_count": 4,
     "metadata": {},
     "output_type": "execute_result"
    }
   ],
   "source": [
    "T, V = 30, 25\n",
    "mask_ratio = 0.8\n",
    "V_len_keep = int(V * (1 - mask_ratio))\n",
    "V_len_keep"
   ]
  },
  {
   "cell_type": "code",
   "execution_count": 14,
   "metadata": {},
   "outputs": [],
   "source": [
    "t_segment = 6\n",
    "T_ = T // t_segment\n",
    "noise = torch.rand(N, T_, V)"
   ]
  },
  {
   "cell_type": "code",
   "execution_count": 15,
   "metadata": {},
   "outputs": [],
   "source": [
    "ids_shuffle = torch.argsort(noise, dim=-1)\n",
    "ids_restore = torch.argsort(ids_shuffle, dim=-1)"
   ]
  },
  {
   "cell_type": "code",
   "execution_count": 16,
   "metadata": {},
   "outputs": [
    {
     "data": {
      "text/plain": [
       "(torch.Size([2, 5, 25]), torch.Size([2, 5, 25]))"
      ]
     },
     "execution_count": 16,
     "metadata": {},
     "output_type": "execute_result"
    }
   ],
   "source": [
    "ids_shuffle.shape, ids_restore.shape"
   ]
  },
  {
   "cell_type": "code",
   "execution_count": 18,
   "metadata": {},
   "outputs": [
    {
     "data": {
      "text/plain": [
       "(torch.Size([2, 30, 25]), torch.Size([2, 30, 25]))"
      ]
     },
     "execution_count": 18,
     "metadata": {},
     "output_type": "execute_result"
    }
   ],
   "source": [
    "ids_shuffle = ids_shuffle.repeat_interleave(t_segment, dim=1)\n",
    "ids_restore = ids_restore.repeat_interleave(t_segment, dim=1)\n",
    "ids_shuffle.shape, ids_restore.shape"
   ]
  },
  {
   "cell_type": "code",
   "execution_count": 19,
   "metadata": {},
   "outputs": [
    {
     "data": {
      "text/plain": [
       "torch.Size([2, 30, 4])"
      ]
     },
     "execution_count": 19,
     "metadata": {},
     "output_type": "execute_result"
    }
   ],
   "source": [
    "ids_keep = ids_shuffle[:, :, :V_len_keep]\n",
    "ids_keep.shape"
   ]
  },
  {
   "cell_type": "code",
   "execution_count": 20,
   "metadata": {},
   "outputs": [
    {
     "data": {
      "text/plain": [
       "torch.Size([2, 30, 25, 256])"
      ]
     },
     "execution_count": 20,
     "metadata": {},
     "output_type": "execute_result"
    }
   ],
   "source": [
    "x = x.view(N, T, V, D)\n",
    "x.shape"
   ]
  },
  {
   "cell_type": "code",
   "execution_count": 21,
   "metadata": {},
   "outputs": [
    {
     "data": {
      "text/plain": [
       "torch.Size([2, 30, 4, 256])"
      ]
     },
     "execution_count": 21,
     "metadata": {},
     "output_type": "execute_result"
    }
   ],
   "source": [
    "x_mask = torch.gather(x, dim=2, index=ids_keep.unsqueeze(-1).expand(-1, -1, -1, D))\n",
    "x_mask.shape"
   ]
  },
  {
   "cell_type": "code",
   "execution_count": 22,
   "metadata": {},
   "outputs": [
    {
     "data": {
      "text/plain": [
       "torch.Size([2, 30, 25])"
      ]
     },
     "execution_count": 22,
     "metadata": {},
     "output_type": "execute_result"
    }
   ],
   "source": [
    "mask = torch.ones(N, T, V)\n",
    "mask[:, :, :V_len_keep] = 0\n",
    "mask = torch.gather(mask, dim=2, index=ids_restore)\n",
    "mask.shape"
   ]
  },
  {
   "cell_type": "code",
   "execution_count": 27,
   "metadata": {},
   "outputs": [
    {
     "data": {
      "text/plain": [
       "tensor([[[0., 1., 1., 1., 1.],\n",
       "         [0., 1., 1., 1., 1.],\n",
       "         [0., 1., 1., 1., 1.],\n",
       "         [0., 1., 1., 1., 1.],\n",
       "         [0., 1., 1., 1., 1.],\n",
       "         [0., 1., 1., 1., 1.],\n",
       "         [1., 1., 1., 0., 1.]],\n",
       "\n",
       "        [[0., 0., 1., 1., 0.],\n",
       "         [0., 0., 1., 1., 0.],\n",
       "         [0., 0., 1., 1., 0.],\n",
       "         [0., 0., 1., 1., 0.],\n",
       "         [0., 0., 1., 1., 0.],\n",
       "         [0., 0., 1., 1., 0.],\n",
       "         [1., 0., 1., 1., 1.]]])"
      ]
     },
     "execution_count": 27,
     "metadata": {},
     "output_type": "execute_result"
    }
   ],
   "source": [
    "mask[:, :7, :5]"
   ]
  },
  {
   "cell_type": "code",
   "execution_count": null,
   "metadata": {},
   "outputs": [],
   "source": []
  }
 ],
 "metadata": {
  "kernelspec": {
   "display_name": "work",
   "language": "python",
   "name": "python3"
  },
  "language_info": {
   "codemirror_mode": {
    "name": "ipython",
    "version": 3
   },
   "file_extension": ".py",
   "mimetype": "text/x-python",
   "name": "python",
   "nbconvert_exporter": "python",
   "pygments_lexer": "ipython3",
   "version": "3.8.16"
  },
  "orig_nbformat": 4,
  "vscode": {
   "interpreter": {
    "hash": "85ab25dab3758848e7da8898424f64a7a1240aaea70eeb60f1d88417527cc5d2"
   }
  }
 },
 "nbformat": 4,
 "nbformat_minor": 2
}
